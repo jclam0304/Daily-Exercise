{
 "cells": [
  {
   "cell_type": "code",
   "execution_count": 4,
   "metadata": {},
   "outputs": [
    {
     "name": "stdout",
     "output_type": "stream",
     "text": [
      "1,even ,3,even ,5,even ,7,even ,nine's,even ,11,even ,13,even ,15,even ,17,even nine's,19,even ,21,even ,23,even ,25,even ,nine's,even ,29,even ,31,even ,33,even ,35,even nine's,37,even ,39,even ,41,even ,43,even ,nine's,even ,47,even ,49,even ,51,even ,53,even nine's,55,even ,57,even ,59,even ,61,even ,nine's,even ,65,even ,67,even ,69,even ,71,even nine's,73,even ,75,even ,77,even ,79,even ,nine's,even ,83,even ,85,even ,87,even ,89,even nine's,91,even ,93,even ,95,even ,97,even ,nine's,"
     ]
    }
   ],
   "source": [
    "#in a range of number from 1 to 100, print \"even\" for even numbers and print \"nine's\" for multiples of nine\n",
    "for i in range (1,101):\n",
    "    k=\"\"\n",
    "    if i%2==0:\n",
    "        k=\"even \"\n",
    "    if i%9==0:\n",
    "        k+=\"nine\\'s\"\n",
    "    print (k or i, end=\",\")"
   ]
  },
  {
   "cell_type": "code",
   "execution_count": null,
   "metadata": {},
   "outputs": [],
   "source": []
  }
 ],
 "metadata": {
  "kernelspec": {
   "display_name": "Python 3",
   "language": "python",
   "name": "python3"
  },
  "language_info": {
   "codemirror_mode": {
    "name": "ipython",
    "version": 3
   },
   "file_extension": ".py",
   "mimetype": "text/x-python",
   "name": "python",
   "nbconvert_exporter": "python",
   "pygments_lexer": "ipython3",
   "version": "3.7.6"
  }
 },
 "nbformat": 4,
 "nbformat_minor": 4
}
