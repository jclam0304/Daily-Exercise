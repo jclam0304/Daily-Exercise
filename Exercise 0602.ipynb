{
 "cells": [
  {
   "cell_type": "code",
   "execution_count": 1,
   "metadata": {},
   "outputs": [],
   "source": [
    "%matplotlib inline\n",
    "import numpy as np\n",
    "import matplotlib.pyplot as plt"
   ]
  },
  {
   "cell_type": "code",
   "execution_count": 3,
   "metadata": {},
   "outputs": [
    {
     "name": "stdout",
     "output_type": "stream",
     "text": [
      "Match 1\n",
      "Match 2\n"
     ]
    }
   ],
   "source": [
    "#Metacharacters match pattern with (*=zero of more repetitions)\n",
    "import re\n",
    "pattern=r\"egg(spam)*\"\n",
    "\n",
    "if re.match(pattern, \"egg\"):\n",
    "    print (\"Match 1\")\n",
    "    \n",
    "if re.match(pattern, \"eggspamspameeg\"):\n",
    "    print (\"Match 2\")\n",
    "    \n",
    "if re.match(pattern, \"spam\"):\n",
    "    print (\"Match 3\")"
   ]
  },
  {
   "cell_type": "code",
   "execution_count": 4,
   "metadata": {},
   "outputs": [
    {
     "name": "stdout",
     "output_type": "stream",
     "text": [
      "Match 1\n",
      "Match 2\n"
     ]
    }
   ],
   "source": [
    "#Metacharacters match pattern with (+=one or more repetitions)\n",
    "import re\n",
    "\n",
    "pattern=r\"g+\"\n",
    "\n",
    "if re.match(pattern, \"g\"):\n",
    "    print (\"Match 1\")\n",
    "    \n",
    "if re.match(pattern, \"ggg\"):\n",
    "    print (\"Match 2\")\n",
    "    \n",
    "if re.match(pattern, \"abc\"):\n",
    "    print (\"Match 3\")"
   ]
  },
  {
   "cell_type": "code",
   "execution_count": 5,
   "metadata": {},
   "outputs": [
    {
     "name": "stdout",
     "output_type": "stream",
     "text": [
      "Match 1\n",
      "Match 2\n"
     ]
    }
   ],
   "source": [
    "#Metacharacters match pattern with (?=zero or one repetition)\n",
    "import re\n",
    "\n",
    "pattern=r\"ice(-)?cream\"\n",
    "\n",
    "if re.match(pattern, \"ice-cream\"):\n",
    "    print (\"Match 1\")\n",
    "    \n",
    "if re.match(pattern, \"icecream\"):\n",
    "    print (\"Match 2\")\n",
    "    \n",
    "if re.match(pattern, \"apple\"):\n",
    "    print (\"Match 3\")\n",
    "\n",
    "if re.match(pattern,\"ice--ice\"):\n",
    "    print (\"Match 4\")"
   ]
  },
  {
   "cell_type": "code",
   "execution_count": 7,
   "metadata": {},
   "outputs": [
    {
     "name": "stdout",
     "output_type": "stream",
     "text": [
      "Match 1\n",
      "Match 2\n"
     ]
    }
   ],
   "source": [
    "#Curly Braces can be used to present the number of repetitions between 2 numbers.\n",
    "\n",
    "import re\n",
    "\n",
    "pattern =r\"9{1,3}$\"\n",
    "\n",
    "if re.match(pattern, \"9\"):\n",
    "    print (\"Match 1\")\n",
    "    \n",
    "if re.match(pattern, \"999\"):\n",
    "    print (\"Match 2\")\n",
    "    \n",
    "if re.match(pattern, \"9999\"):\n",
    "    print (\"Match 3\")"
   ]
  },
  {
   "cell_type": "code",
   "execution_count": null,
   "metadata": {},
   "outputs": [],
   "source": []
  }
 ],
 "metadata": {
  "kernelspec": {
   "display_name": "Python 3",
   "language": "python",
   "name": "python3"
  },
  "language_info": {
   "codemirror_mode": {
    "name": "ipython",
    "version": 3
   },
   "file_extension": ".py",
   "mimetype": "text/x-python",
   "name": "python",
   "nbconvert_exporter": "python",
   "pygments_lexer": "ipython3",
   "version": "3.7.6"
  }
 },
 "nbformat": 4,
 "nbformat_minor": 4
}
