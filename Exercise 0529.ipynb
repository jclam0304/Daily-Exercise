{
 "cells": [
  {
   "cell_type": "code",
   "execution_count": 2,
   "metadata": {},
   "outputs": [
    {
     "name": "stdout",
     "output_type": "stream",
     "text": [
      ">> ovo\n",
      "haha\n"
     ]
    }
   ],
   "source": [
    "message =input (\">> \")\n",
    "print(\"haha\")"
   ]
  },
  {
   "cell_type": "code",
   "execution_count": null,
   "metadata": {},
   "outputs": [],
   "source": [
    "while True:\n",
    "    message = input (\"How is your day? Says bye when you finished:\")\n",
    "    print (\"I wish you all luck!\")\n",
    "    if message==\"bye\":\n",
    "        print(\"bye bye!\")\n",
    "        break"
   ]
  },
  {
   "cell_type": "code",
   "execution_count": 53,
   "metadata": {},
   "outputs": [
    {
     "name": "stdout",
     "output_type": "stream",
     "text": [
      "Populating the interactive namespace from numpy and matplotlib\n"
     ]
    }
   ],
   "source": [
    "%pylab inline"
   ]
  },
  {
   "cell_type": "code",
   "execution_count": 11,
   "metadata": {},
   "outputs": [
    {
     "data": {
      "text/plain": [
       "[<matplotlib.lines.Line2D at 0x11b02fa50>]"
      ]
     },
     "execution_count": 11,
     "metadata": {},
     "output_type": "execute_result"
    },
    {
     "data": {
      "image/png": "[encoded data removed]",
      "text/plain": [
       "<Figure size 432x288 with 1 Axes>"
      ]
     },
     "metadata": {
      "needs_background": "light"
     },
     "output_type": "display_data"
    }
   ],
   "source": [
    "plot (randn(100))"
   ]
  },
  {
   "cell_type": "code",
   "execution_count": 15,
   "metadata": {},
   "outputs": [],
   "source": [
    "randn?"
   ]
  },
  {
   "cell_type": "code",
   "execution_count": 25,
   "metadata": {},
   "outputs": [
    {
     "name": "stdout",
     "output_type": "stream",
     "text": [
      "x = \n",
      "[ 0.24374476  0.0403036  -0.75785255 -1.09517614  0.75293006 -1.03120663\n",
      "  0.05953231 -0.31369459 -0.7899216   0.72070783]\n",
      "y = \n",
      "[ 1.06860894 -1.35605877  0.19759904  0.40848991 -1.89464741  0.04037739\n",
      "  1.4470341   0.40815625  0.66458066  0.25968093]\n"
     ]
    }
   ],
   "source": [
    "x=randn(10)\n",
    "y=randn(10)\n",
    "print ('x = ',x,'y = ',y,sep=\"\\n\")"
   ]
  },
  {
   "cell_type": "code",
   "execution_count": 27,
   "metadata": {},
   "outputs": [
    {
     "data": {
      "text/plain": [
       "False"
      ]
     },
     "execution_count": 27,
     "metadata": {},
     "output_type": "execute_result"
    }
   ],
   "source": [
    "0>5"
   ]
  },
  {
   "cell_type": "code",
   "execution_count": 30,
   "metadata": {},
   "outputs": [
    {
     "name": "stdout",
     "output_type": "stream",
     "text": [
      "0\n",
      "1\n",
      "2\n",
      "3\n",
      "4\n"
     ]
    }
   ],
   "source": [
    "a=0\n",
    "while a<5:\n",
    "    print (a)\n",
    "    a+=1"
   ]
  },
  {
   "cell_type": "code",
   "execution_count": 46,
   "metadata": {},
   "outputs": [
    {
     "name": "stdout",
     "output_type": "stream",
     "text": [
      "1900 ->OK\n",
      "2000 ->OK\n",
      "2016 ->OK\n",
      "1987 ->OK\n"
     ]
    }
   ],
   "source": [
    "def IsYearLeap(year):\n",
    "    if year %400==0:\n",
    "        return True\n",
    "    elif year %100==0:\n",
    "        return False\n",
    "    elif year %4==0:\n",
    "        return True\n",
    "    else:\n",
    "        return False\n",
    "    \n",
    "testdata = [1900,2000,2016,1987]\n",
    "testresult = [False, True, True, False]\n",
    "for i in range(len(testdata)):\n",
    "    yr=testdata[i]\n",
    "    print (yr , \"->\", end =\"\")\n",
    "    result = IsYearLeap(yr)\n",
    "    if result == testresult[i]:\n",
    "        print(\"OK\")\n",
    "    else:\n",
    "        print(\"Failed\")"
   ]
  },
  {
   "cell_type": "code",
   "execution_count": null,
   "metadata": {},
   "outputs": [],
   "source": [
    "LeapDays = [31,29,31,30,31,30,31,31,30,31,30,31]\n",
    "CommonDays = [31,28,31,30,31,30,31,31,30,31,30,31]\n",
    "if year<=0:\n",
    "    print (\"Sorry, it is not a valid year.\")\n",
    "def DaysInMonth(year, month):\n",
    "    i = month\n",
    "    if IsYearLeap(year)==True:\n",
    "        for i in range(len(LeapDays)):\n",
    "            print (LeapDays[i])\n",
    "    else:\n",
    "        for i in range(len(CommonDays)):\n",
    "            print (CommonDays[i])\n",
    "\n",
    "testyears= [1900,2000,2016,1987]\n",
    "testmonths=[2,2,1,11]\n",
    "testresults = [28,29,31,30]\n",
    "for i in range(len(testyears)):\n",
    "    yr = testyears[i]\n",
    "    mo = testmonths[i]\n",
    "    print (yr,mo, \"->\", end\"\")\n",
    "    result = DaysInMonth(yr,mo)\n",
    "    if result == testresults[i]:\n",
    "        print(\"OK\")\n",
    "    else:\n",
    "        print(\"Failed\")"
   ]
  },
  {
   "cell_type": "code",
   "execution_count": null,
   "metadata": {},
   "outputs": [],
   "source": []
  }
 ],
 "metadata": {
  "kernelspec": {
   "display_name": "Python 3",
   "language": "python",
   "name": "python3"
  },
  "language_info": {
   "codemirror_mode": {
    "name": "ipython",
    "version": 3
   },
   "file_extension": ".py",
   "mimetype": "text/x-python",
   "name": "python",
   "nbconvert_exporter": "python",
   "pygments_lexer": "ipython3",
   "version": "3.7.6"
  }
 },
 "nbformat": 4,
 "nbformat_minor": 4
}
