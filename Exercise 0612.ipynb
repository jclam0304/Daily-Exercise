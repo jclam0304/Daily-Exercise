{
 "cells": [
  {
   "cell_type": "code",
   "execution_count": 8,
   "metadata": {},
   "outputs": [
    {
     "name": "stdout",
     "output_type": "stream",
     "text": [
      "Populating the interactive namespace from numpy and matplotlib\n"
     ]
    }
   ],
   "source": [
    "%matplotlib inline\n",
    "%pylab inline\n",
    "import numpy as np\n",
    "import matplotlib.pyplot as plt"
   ]
  },
  {
   "cell_type": "code",
   "execution_count": 16,
   "metadata": {},
   "outputs": [
    {
     "data": {
      "text/plain": [
       "3"
      ]
     },
     "execution_count": 16,
     "metadata": {},
     "output_type": "execute_result"
    }
   ],
   "source": [
    "randint(1,10)"
   ]
  },
  {
   "cell_type": "code",
   "execution_count": 17,
   "metadata": {},
   "outputs": [
    {
     "name": "stdout",
     "output_type": "stream",
     "text": [
      "4 5\n",
      "3 6\n",
      "2 7\n"
     ]
    }
   ],
   "source": [
    "#Matching target number with 2 elements in a list\n",
    "nums = [2,3,4,5,6,7]\n",
    "target = 9\n",
    "adict = {}\n",
    "\n",
    "for number in nums:\n",
    "    if (target-number) in adict:\n",
    "        first_num = target - number\n",
    "        second_num = adict[first_num]\n",
    "        print (first_num, second_num)\n",
    "    else:\n",
    "        adict[number]=target-number"
   ]
  },
  {
   "cell_type": "code",
   "execution_count": 23,
   "metadata": {},
   "outputs": [
    {
     "name": "stdout",
     "output_type": "stream",
     "text": [
      "4 6\n",
      "3 7\n"
     ]
    }
   ],
   "source": [
    "def f(x, target):\n",
    "    #Matching target number with 2 elements in a list\n",
    "    adict = {}\n",
    "    for number in x:\n",
    "        if (target-number) in adict:\n",
    "            first_num = target - number\n",
    "            second_num = adict[first_num]\n",
    "            print (first_num, second_num)\n",
    "        else:\n",
    "            adict[number]=target-number\n",
    "\n",
    "y = [2,3,4,5,6,7]\n",
    "f(y, 10)"
   ]
  },
  {
   "cell_type": "code",
   "execution_count": null,
   "metadata": {},
   "outputs": [],
   "source": []
  }
 ],
 "metadata": {
  "kernelspec": {
   "display_name": "Python 3",
   "language": "python",
   "name": "python3"
  },
  "language_info": {
   "codemirror_mode": {
    "name": "ipython",
    "version": 3
   },
   "file_extension": ".py",
   "mimetype": "text/x-python",
   "name": "python",
   "nbconvert_exporter": "python",
   "pygments_lexer": "ipython3",
   "version": "3.7.6"
  }
 },
 "nbformat": 4,
 "nbformat_minor": 4
}
