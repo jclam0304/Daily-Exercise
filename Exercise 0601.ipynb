{
 "cells": [
  {
   "cell_type": "code",
   "execution_count": 19,
   "metadata": {},
   "outputs": [
    {
     "name": "stdout",
     "output_type": "stream",
     "text": [
      "366\n"
     ]
    }
   ],
   "source": [
    "#Calculating Days in a Year\n",
    "\n",
    "def IsYearLeap(year):\n",
    "    if year %400==0:\n",
    "        return True\n",
    "    elif year %100==0:\n",
    "        return False\n",
    "    elif year %4==0:\n",
    "        return True\n",
    "    else:\n",
    "        return False\n",
    "    \n",
    "LeapDay = [31,29,31,30,31,30,31,31,30,31,30,31]\n",
    "CommonDay = [31,28,31,30,31,30,31,31,30,31,30,31]\n",
    "    \n",
    "def DaysInMonth(year, month):\n",
    "    month=month-1\n",
    "    if IsYearLeap(year)==True:\n",
    "        return (LeapDay[month])\n",
    "    else:\n",
    "        return (CommonDay[month])\n",
    "    \n",
    "def DaysInYear(year):\n",
    "    if IsYearLeap(year)==True:\n",
    "        print (sum(LeapDay))\n",
    "    else:\n",
    "        print (sum(CommonDay))\n",
    "DaysInYear(2020)"
   ]
  },
  {
   "cell_type": "code",
   "execution_count": 10,
   "metadata": {},
   "outputs": [],
   "source": [
    "%matplotlib inline\n",
    "import numpy as np\n",
    "import matplotlib.pyplot as plt"
   ]
  },
  {
   "cell_type": "code",
   "execution_count": 18,
   "metadata": {},
   "outputs": [
    {
     "name": "stdout",
     "output_type": "stream",
     "text": [
      "[ 7.8 15.6 23.4 31.2 39. ]\n"
     ]
    }
   ],
   "source": [
    "p=[1,2,3,4,5]\n",
    "d=7.8\n",
    "prices=np.array(p)\n",
    "USD=prices*d\n",
    "print (USD)"
   ]
  },
  {
   "cell_type": "code",
   "execution_count": 15,
   "metadata": {},
   "outputs": [
    {
     "data": {
      "text/plain": [
       "14"
      ]
     },
     "execution_count": 15,
     "metadata": {},
     "output_type": "execute_result"
    }
   ],
   "source": [
    "7+7"
   ]
  },
  {
   "cell_type": "code",
   "execution_count": 21,
   "metadata": {},
   "outputs": [
    {
     "data": {
      "text/plain": [
       "array([2.1, 4.4, 5. ])"
      ]
     },
     "execution_count": 21,
     "metadata": {},
     "output_type": "execute_result"
    }
   ],
   "source": [
    "k=np.array([7,11,10])\n",
    "l=np.array([0.3,0.4,0.5])\n",
    "m=k*l\n",
    "m"
   ]
  },
  {
   "cell_type": "code",
   "execution_count": 23,
   "metadata": {},
   "outputs": [
    {
     "data": {
      "text/plain": [
       "11.5"
      ]
     },
     "execution_count": 23,
     "metadata": {},
     "output_type": "execute_result"
    }
   ],
   "source": [
    "m.sum()"
   ]
  },
  {
   "cell_type": "code",
   "execution_count": 24,
   "metadata": {},
   "outputs": [
    {
     "data": {
      "text/plain": [
       "11.5"
      ]
     },
     "execution_count": 24,
     "metadata": {},
     "output_type": "execute_result"
    }
   ],
   "source": [
    "np.dot(k,l)\n",
    "#weighted summation of k and l"
   ]
  },
  {
   "cell_type": "code",
   "execution_count": 27,
   "metadata": {},
   "outputs": [
    {
     "data": {
      "text/plain": [
       "array([81. , 87.5, 64.9, 98.1])"
      ]
     },
     "execution_count": 27,
     "metadata": {},
     "output_type": "execute_result"
    }
   ],
   "source": [
    "#Calculating Grades for students\n",
    "#First Mid Term Exam 30%\n",
    "#Second Mid Term Exam 30%\n",
    "#Final Exam 40%\n",
    "grades=np.array([[70,80,90],[80,85,95],[77,66,55],[99,100,96]])\n",
    "weight=np.array([0.3,0.3,0.4])\n",
    "result=np.dot(grades, weight)\n",
    "result"
   ]
  },
  {
   "cell_type": "code",
   "execution_count": null,
   "metadata": {},
   "outputs": [],
   "source": []
  }
 ],
 "metadata": {
  "kernelspec": {
   "display_name": "Python 3",
   "language": "python",
   "name": "python3"
  },
  "language_info": {
   "codemirror_mode": {
    "name": "ipython",
    "version": 3
   },
   "file_extension": ".py",
   "mimetype": "text/x-python",
   "name": "python",
   "nbconvert_exporter": "python",
   "pygments_lexer": "ipython3",
   "version": "3.7.6"
  }
 },
 "nbformat": 4,
 "nbformat_minor": 4
}
